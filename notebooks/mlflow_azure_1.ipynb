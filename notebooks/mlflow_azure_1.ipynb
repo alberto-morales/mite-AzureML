{
 "cells": [
  {
   "cell_type": "code",
   "execution_count": null,
   "metadata": {},
   "outputs": [],
   "source": [
    "import mlflow\n",
    "from azureml.core import Workspace\n",
    "\n",
    "from sklearn.linear_model import Ridge\n",
    "import mlflow.sklearn"
   ]
  },
  {
   "cell_type": "code",
   "execution_count": null,
   "metadata": {},
   "outputs": [],
   "source": [
    "def get_workspace():\n",
    "    \"\"\"\n",
    "    MLLab Área de trabajo del servicio Machine Learning\n",
    "    a21d8af7-720a-451d-9010-9defcff47587 Suscription id\n",
    "    mllab7849892444 Microsoft.Insights/components\n",
    "    mllab8506144354 Microsoft.KeyVault/vaults\n",
    "    mllab6951918960 Microsoft.Storage/storageAccounts\n",
    "    MLLab Microsoft.MachineLearningServices/workspace\n",
    "    MLLab-resource-group Resource group\n",
    "    MLLab-K8s Nombre cluster kubernetes\n",
    "              (MLLab-K8s es id de recurso, nombre del proceso myaks)\n",
    "    \"\"\"\n",
    "    ws = Workspace.get(name=\"MLLab\", subscription_id='a21d8af7-720a-451d-9010-9defcff47587', resource_group='MLLab-resource-group')\n",
    "    return ws"
   ]
  },
  {
   "cell_type": "code",
   "execution_count": null,
   "metadata": {},
   "outputs": [],
   "source": [
    "ws = get_workspace()\n",
    "mlflow.set_tracking_uri(ws.get_mlflow_tracking_uri())"
   ]
  },
  {
   "cell_type": "code",
   "execution_count": null,
   "metadata": {},
   "outputs": [],
   "source": [
    "def get_training_data():        \n",
    "  sample_files_path = os.environ.get('SAMPLE_FILES_PATH','.')\n",
    "  trainingDataFilePath = sample_files_path + '/articulos_ml.csv'\n",
    "  data = pd.read_csv(trainingDataFilePath)\n",
    "  # veamos cuantas dimensiones y registros contiene (son 161 registros con 8 columnas)\n",
    "  # print(data.shape)\n",
    "  # Vamos a RECORTAR los datos en la zona donde se concentran más los puntos\n",
    "  filtered_data = data[(data['Word count'] <= 3500) & (data['# Shares'] <= 80000)]\n",
    "  return filtered_data"
   ]
  },
  {
   "cell_type": "code",
   "execution_count": null,
   "metadata": {},
   "outputs": [],
   "source": [
    "\n",
    "def train(alpha_arg, training_data):\n",
    "  dataX = training_data[[\"Word count\"]]\n",
    "  X_train = np.array(dataX)\n",
    "  y_train = training_data['# Shares'].values\n",
    "  # Creamos el objeto de Regresión Ridge\n",
    "  regr = Ridge(alpha=alpha_arg)\n",
    "  # Entrenamos nuestro modelo (worst model ever)\n",
    "  regr.fit(X_train, y_train)\n",
    "  return regr  \n",
    "\n",
    "experiment_name = 'experiment_mite_1'\n",
    "mlflow.set_experiment(experiment_name)\n",
    "\n",
    "with mlflow.start_run():\n",
    "  alpha = 0.01 \n",
    "  regression_model = train(alpha)    \n",
    "  mlflow.log_metric('alpha', alpha)\n",
    "  # Save the model to the outputs directory for capture\n",
    "  model_save_path = \"mite_models\"\n",
    "  mlflow.sklearn.log_model(regression_model, model_save_path)\n"
   ]
  }
 ],
 "metadata": {
  "kernelspec": {
   "display_name": "Python 3",
   "language": "python",
   "name": "python3"
  },
  "language_info": {
   "codemirror_mode": {
    "name": "ipython",
    "version": 3
   },
   "file_extension": ".py",
   "mimetype": "text/x-python",
   "name": "python",
   "nbconvert_exporter": "python",
   "pygments_lexer": "ipython3",
   "version": "3.7.4"
  }
 },
 "nbformat": 4,
 "nbformat_minor": 2
}
